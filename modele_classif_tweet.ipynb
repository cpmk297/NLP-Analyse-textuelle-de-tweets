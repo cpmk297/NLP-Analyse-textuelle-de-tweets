{
 "cells": [
  {
   "cell_type": "markdown",
   "id": "53e1aad4-638a-4cc1-a6a7-b5bcf6e0ed47",
   "metadata": {},
   "source": [
    "# PROJET NLP: CLASSIFICATION DE TWEETS"
   ]
  },
  {
   "cell_type": "markdown",
   "id": "94b38c1c-9e55-4ead-932f-92eb8f7c5305",
   "metadata": {},
   "source": [
    "L'objectif de ce projet de dévélopper plusieurs modèles afin de classifier des tweets en trois catégories: haineux(classe 0), offensant(classe 1) et ni l'un ni l'autre(classe 2)."
   ]
  },
  {
   "cell_type": "markdown",
   "id": "58f45280-48e5-497e-98b4-9ed2766c876b",
   "metadata": {},
   "source": [
    "On dispose d'un dataset qui contient plusieurs tweets et les labels correspondants.\n",
    "La première partie consistera à préparer les donnnées(suppression des caractères inutiles, suppression des stop words, tokenization, lemmatization...)"
   ]
  },
  {
   "cell_type": "code",
   "execution_count": 36,
   "id": "a3b1c2e3-9397-4bf0-9e49-6d8dcb69fc0b",
   "metadata": {},
   "outputs": [],
   "source": [
    "import pandas as pd \n",
    "import numpy as np \n",
    "import re \n",
    "import spacy"
   ]
  },
  {
   "cell_type": "code",
   "execution_count": 3,
   "id": "0cb28830-a0e5-4067-984d-02320d1602d5",
   "metadata": {},
   "outputs": [],
   "source": [
    "# Données\n",
    "splits = {'train': 'data/train-00000-of-00001-b57a122b095e5ed1.parquet', 'validation': 'data/validation-00000-of-00001-9ea89a9fc1c6b387.parquet', 'test': 'data/test-00000-of-00001-10d11e25d2e9ec6e.parquet'}\n",
    "df = pd.read_parquet(\"hf://datasets/badmatr11x/hate-offensive-speech/\" + splits[\"train\"])"
   ]
  },
  {
   "cell_type": "code",
   "execution_count": 4,
   "id": "37977b7c-e46e-4036-8612-31344053b953",
   "metadata": {},
   "outputs": [
    {
     "name": "stdout",
     "output_type": "stream",
     "text": [
      "    label                                              tweet\n",
      "0       2  where's his other half??? i want to indulge my...\n",
      "1       2  easier for barrack hussein obama to blame guns...\n",
      "2       2  As soon as a Democrat gets a chance to ? the p...\n",
      "3       1   GOOD Music &gt;&gt;&gt;&gt;&gt; Young Money fags\n",
      "4       2  mass shooting at orlando gay nightclub: what w...\n",
      "5       2  @user @user are you guys going to take forever...\n",
      "6       1                             My niggah my niggah...\n",
      "7       1  ...and I'm goin back to school.. only for the ...\n",
      "8       2  @user new music coming! hear a sneak peek now!...\n",
      "9       2                 actually give my father his gift  \n",
      "10      2  onerepublic - wherever i go (official video)  ...\n",
      "11      2  omg yay finally @user @user is finally coming ...\n",
      "12      2  '#urdu poetry #beutiful #poetry   poetry  #2 l...\n",
      "13      1                        Sombody bring me some pussy\n",
      "14      1  RT @JuveUnited: Messi REFUSED to be subbed off...\n"
     ]
    }
   ],
   "source": [
    "print(df.head(15))"
   ]
  },
  {
   "cell_type": "markdown",
   "id": "dc6ab14e-8bc4-4b3b-b8c4-7f1361baadd9",
   "metadata": {},
   "source": [
    "**Répartition des catégories**"
   ]
  },
  {
   "cell_type": "code",
   "execution_count": 5,
   "id": "9ebd157f-371c-429c-9994-f73cd01b5e09",
   "metadata": {},
   "outputs": [
    {
     "data": {
      "text/plain": [
       "label\n",
       "2    0.597611\n",
       "1    0.337889\n",
       "0    0.064500\n",
       "Name: proportion, dtype: float64"
      ]
     },
     "execution_count": 5,
     "metadata": {},
     "output_type": "execute_result"
    }
   ],
   "source": [
    "df['label'].value_counts(normalize= True)"
   ]
  },
  {
   "cell_type": "markdown",
   "id": "33afb1a9-30da-4246-b29c-de9572050536",
   "metadata": {},
   "source": [
    "Le jeu de données n'est pas équilibré.\n",
    "Lors de la phase d'entrainement, nous allons utiliser une séparation stratifiée."
   ]
  },
  {
   "cell_type": "markdown",
   "id": "4373d60b-53b8-4ba0-b910-424e412cc93d",
   "metadata": {},
   "source": [
    "## 1. Préprocessing"
   ]
  },
  {
   "cell_type": "markdown",
   "id": "a8fbdb40-478e-4f89-8892-73fd9743e34c",
   "metadata": {},
   "source": [
    "**1.1 Suppression des caractères inutiles**"
   ]
  },
  {
   "cell_type": "markdown",
   "id": "94af4725-ee3a-4375-98be-ca1324c6435c",
   "metadata": {},
   "source": [
    "- ***Test du regex***"
   ]
  },
  {
   "cell_type": "code",
   "execution_count": 6,
   "id": "b3c3761f-7c9e-412d-9dcb-1b35afc9323c",
   "metadata": {},
   "outputs": [
    {
     "data": {
      "text/plain": [
       "['#', '#', '#', '@', '@', '{', '@']"
      ]
     },
     "execution_count": 6,
     "metadata": {},
     "output_type": "execute_result"
    }
   ],
   "source": [
    "pattern = r\"[^\\w\\s]\"\n",
    "test = \"14 décembre ###@@2024 23h40{@\"\n",
    "re.findall(pattern, test)"
   ]
  },
  {
   "cell_type": "code",
   "execution_count": 7,
   "id": "5927e70a-ad33-4a4a-9254-788ef8bd4f42",
   "metadata": {},
   "outputs": [
    {
     "data": {
      "text/plain": [
       "'14 décembre 2024 23h40'"
      ]
     },
     "execution_count": 7,
     "metadata": {},
     "output_type": "execute_result"
    }
   ],
   "source": [
    "re.sub(pattern, \"\", test)"
   ]
  },
  {
   "cell_type": "markdown",
   "id": "c6f17961-5187-48d8-ad4d-0fea5ab8f0a5",
   "metadata": {},
   "source": [
    "- ***Fonction pour supprimer les caractères inutiles***"
   ]
  },
  {
   "cell_type": "code",
   "execution_count": 8,
   "id": "8678f1f5-d3c8-4094-bb02-3bda961ce4c6",
   "metadata": {},
   "outputs": [],
   "source": [
    "def remove_characters(text):\n",
    "    pattern= r\"[^\\w\\s]\"\n",
    "    return re.sub(pattern, \"\", text)"
   ]
  },
  {
   "cell_type": "code",
   "execution_count": 9,
   "id": "6f6dbf7f-8dc9-4b2e-8f75-a59558a3b695",
   "metadata": {},
   "outputs": [],
   "source": [
    "df['tweet'] = df['tweet'].apply(remove_characters)"
   ]
  },
  {
   "cell_type": "code",
   "execution_count": 10,
   "id": "0c826c5d-09e1-4f68-ab4b-9ae6adf0d8a2",
   "metadata": {},
   "outputs": [
    {
     "name": "stdout",
     "output_type": "stream",
     "text": [
      "   label                                              tweet\n",
      "0      2  wheres his other half i want to indulge myself...\n",
      "1      2  easier for barrack hussein obama to blame guns...\n",
      "2      2  As soon as a Democrat gets a chance to  the po...\n",
      "3      1             GOOD Music gtgtgtgtgt Young Money fags\n",
      "4      2  mass shooting at orlando gay nightclub what we...\n",
      "5      2  user user are you guys going to take forever t...\n",
      "6      1                                My niggah my niggah\n"
     ]
    }
   ],
   "source": [
    "print(df.head(7))"
   ]
  },
  {
   "cell_type": "markdown",
   "id": "db72d841-ee99-42e9-b1d4-df11327cd42e",
   "metadata": {},
   "source": [
    "- ***Mettre tout en minuscule***"
   ]
  },
  {
   "cell_type": "code",
   "execution_count": 11,
   "id": "60f85318-948a-449f-af4b-01a714dc88c9",
   "metadata": {},
   "outputs": [],
   "source": [
    "df['tweet']= df['tweet'].str.lower()"
   ]
  },
  {
   "cell_type": "code",
   "execution_count": 12,
   "id": "8072550f-ddd8-4802-b90c-773728327f35",
   "metadata": {},
   "outputs": [
    {
     "name": "stdout",
     "output_type": "stream",
     "text": [
      "   label                                              tweet\n",
      "0      2  wheres his other half i want to indulge myself...\n",
      "1      2  easier for barrack hussein obama to blame guns...\n",
      "2      2  as soon as a democrat gets a chance to  the po...\n",
      "3      1             good music gtgtgtgtgt young money fags\n",
      "4      2  mass shooting at orlando gay nightclub what we...\n",
      "5      2  user user are you guys going to take forever t...\n",
      "6      1                                my niggah my niggah\n"
     ]
    }
   ],
   "source": [
    "print(df.head(7))"
   ]
  },
  {
   "cell_type": "markdown",
   "id": "4c95190e-b4c8-4f22-8aba-96a63f0487a3",
   "metadata": {},
   "source": [
    "**1. 2 Tokenization**"
   ]
  },
  {
   "cell_type": "code",
   "execution_count": 13,
   "id": "b90036e6-db19-49ab-a6c1-864686eff96a",
   "metadata": {},
   "outputs": [],
   "source": [
    "nlp = spacy.load('en_core_web_lg') # O charge le modèle large pour l'anglais"
   ]
  },
  {
   "cell_type": "code",
   "execution_count": 14,
   "id": "987106d2-7eba-4423-9e4e-4702b3c0a881",
   "metadata": {},
   "outputs": [
    {
     "name": "stdout",
     "output_type": "stream",
     "text": [
      "15\n",
      "Décembre\n",
      "00:05\n"
     ]
    }
   ],
   "source": [
    "test = nlp(\"15 Décembre 00:05\")\n",
    "for word in test: \n",
    "    print(word)"
   ]
  },
  {
   "cell_type": "markdown",
   "id": "7cd59e72-6492-4588-88ef-d6a39a4a9bba",
   "metadata": {},
   "source": [
    "- ***Fonction pour tokeniser***"
   ]
  },
  {
   "cell_type": "code",
   "execution_count": 15,
   "id": "b6f3406f-948d-46a7-afbd-0df23bf59725",
   "metadata": {},
   "outputs": [],
   "source": [
    "def tokanize(text):\n",
    "    doc = nlp(text)\n",
    "    return([word.text for word in doc if not word.is_stop and not word.is_punct])"
   ]
  },
  {
   "cell_type": "code",
   "execution_count": 16,
   "id": "bdc59709-ea7f-4382-99b8-15c8f89f5c2b",
   "metadata": {},
   "outputs": [],
   "source": [
    "df['tweet'] = df['tweet'].apply(tokanize)"
   ]
  },
  {
   "cell_type": "code",
   "execution_count": 17,
   "id": "e978d717-14b9-4881-a2c0-4b8a95866ff4",
   "metadata": {},
   "outputs": [
    {
     "data": {
      "text/plain": [
       "0    [s, half, want, indulge, lot, yunho, esp, danc...\n",
       "1    [easier, barrack, hussein, obama, blame, guns,...\n",
       "2    [soon, democrat, gets, chance,  , political, h...\n",
       "3        [good, music, gtgtgtgtgt, young, money, fags]\n",
       "4    [mass, shooting, orlando, gay, nightclub, know...\n",
       "5    [user, user, guys, going, forever, bring, new,...\n",
       "6                                     [niggah, niggah]\n",
       "7                       [m, goin, school, hoes, class]\n",
       "8    [user, new, music, coming, hear, sneak, peek, ...\n",
       "9                          [actually, father, gift,  ]\n",
       "Name: tweet, dtype: object"
      ]
     },
     "execution_count": 17,
     "metadata": {},
     "output_type": "execute_result"
    }
   ],
   "source": [
    "df['tweet'].head(10)"
   ]
  },
  {
   "cell_type": "markdown",
   "id": "e3c94085-2ff1-4e96-a2e6-4df7450558f4",
   "metadata": {},
   "source": [
    "**1.3. Lemmatization**"
   ]
  },
  {
   "cell_type": "code",
   "execution_count": 18,
   "id": "677e2dc5-0627-4e54-9ad3-2c246418b904",
   "metadata": {},
   "outputs": [
    {
     "name": "stdout",
     "output_type": "stream",
     "text": [
      "eat\n",
      "ate\n",
      "eating\n"
     ]
    }
   ],
   "source": [
    "test = nlp(\"eat ate eating\")\n",
    "for word in test: \n",
    "    print(word)"
   ]
  },
  {
   "cell_type": "markdown",
   "id": "594eaba2-10c2-4bbc-ae99-885e50d42a90",
   "metadata": {},
   "source": [
    "- ***Fonction pour lemmatizer***"
   ]
  },
  {
   "cell_type": "code",
   "execution_count": 19,
   "id": "f3a4eb33-3aa0-4a60-998c-5c67721bd524",
   "metadata": {},
   "outputs": [],
   "source": [
    "def lemmatize(text):\n",
    "    doc = nlp(\" \".join(text))\n",
    "    return [word.lemma_ for word in doc]"
   ]
  },
  {
   "cell_type": "code",
   "execution_count": 20,
   "id": "466924df-c09f-4219-9d3e-1a433a293949",
   "metadata": {},
   "outputs": [
    {
     "data": {
      "text/plain": [
       "['s',\n",
       " 'half',\n",
       " 'want',\n",
       " 'indulge',\n",
       " 'lot',\n",
       " 'yunho',\n",
       " 'esp',\n",
       " 'dance',\n",
       " 'head',\n",
       " 'today',\n",
       " '   ',\n",
       " 'âïðð']"
      ]
     },
     "execution_count": 20,
     "metadata": {},
     "output_type": "execute_result"
    }
   ],
   "source": [
    "lemmatize(df['tweet'][0])"
   ]
  },
  {
   "cell_type": "code",
   "execution_count": 21,
   "id": "c6979523-f183-4408-a40b-e7a8184555ae",
   "metadata": {},
   "outputs": [],
   "source": [
    "df['tweet'] = df['tweet'].apply(lemmatize)"
   ]
  },
  {
   "cell_type": "code",
   "execution_count": 22,
   "id": "7bfe33b2-b712-4aaa-8123-47c71d2e6c8d",
   "metadata": {},
   "outputs": [
    {
     "data": {
      "text/plain": [
       "0    [s, half, want, indulge, lot, yunho, esp, danc...\n",
       "1    [easy, barrack, hussein, obama, blame, gun, ki...\n",
       "2    [soon, democrat, get, chance,   , political, h...\n",
       "3         [good, music, gtgtgtgtgt, young, money, fag]\n",
       "4    [mass, shoot, orlando, gay, nightclub, know,  ...\n",
       "5    [user, user, guy, going, forever, bring, new, ...\n",
       "6                                     [niggah, niggah]\n",
       "Name: tweet, dtype: object"
      ]
     },
     "execution_count": 22,
     "metadata": {},
     "output_type": "execute_result"
    }
   ],
   "source": [
    "df['tweet'].head(7)"
   ]
  },
  {
   "cell_type": "markdown",
   "id": "1478f0f3-4991-41b8-bbb6-7c2ba401d97e",
   "metadata": {},
   "source": [
    "**1.4 Représentation textuelle**"
   ]
  },
  {
   "cell_type": "markdown",
   "id": "7624b7a2-7692-4cec-b1d6-e447327d04fd",
   "metadata": {},
   "source": [
    "Pour la representation textuelle, nous allons utiliser un embedding statistique.\n",
    "On pourrait utiliser un embedding contextuel à l'aide des transformers mais cela est gourmand en calcul."
   ]
  },
  {
   "cell_type": "code",
   "execution_count": 23,
   "id": "6392b610-9d9e-4ed9-a8ed-b85387e51a06",
   "metadata": {},
   "outputs": [
    {
     "name": "stdout",
     "output_type": "stream",
     "text": [
      "Chaque mot est représenté par un vecteur  300 * 1 avec l'embedding du modèle en_core_web_sm.\n"
     ]
    }
   ],
   "source": [
    "doc = nlp(\" \".join(df['tweet'][0]))\n",
    "print(\"Chaque mot est représenté par un vecteur \", str(len(doc.vector)),\"*\", str(1), \"avec l'embedding du modèle en_core_web_sm.\")"
   ]
  },
  {
   "cell_type": "code",
   "execution_count": 24,
   "id": "b4c8278f-766e-455f-aeb0-67119b1f1ade",
   "metadata": {},
   "outputs": [],
   "source": [
    "def embedding(text):\n",
    "    doc = nlp(\" \".join(text))\n",
    "    return doc.vector"
   ]
  },
  {
   "cell_type": "code",
   "execution_count": 25,
   "id": "aea08afd-a405-42a5-ad90-b32871776f45",
   "metadata": {},
   "outputs": [],
   "source": [
    "df['embedding'] = df['tweet'].apply(embedding)"
   ]
  },
  {
   "cell_type": "code",
   "execution_count": 26,
   "id": "8a2584c0-a54e-4b30-8cb7-d61ef95d2944",
   "metadata": {},
   "outputs": [
    {
     "data": {
      "text/plain": [
       "0        [1.4436141, 0.96622664, -1.8198816, -1.1180667...\n",
       "1        [-0.41034362, 1.5116854, -1.7897471, 0.3413112...\n",
       "2        [0.5144166, 0.9947857, -1.4718955, 0.89902145,...\n",
       "3        [-0.655965, 0.9352083, -2.674731, -0.46375003,...\n",
       "4        [-0.0025200183, 1.1542289, -1.8786784, 0.91567...\n",
       "                               ...                        \n",
       "51065    [-0.46999636, 1.5054955, -0.14967223, -0.83664...\n",
       "51066    [1.3609418, 2.1872563, -3.0269845, -0.7565863,...\n",
       "51067    [0.05848126, 0.3288, -1.8115547, -0.43121278, ...\n",
       "51068    [-0.12552758, -0.13780001, -0.7453857, 0.07447...\n",
       "51069    [-0.4855863, 1.4458762, -1.5623549, 0.8310837,...\n",
       "Name: embedding, Length: 51070, dtype: object"
      ]
     },
     "execution_count": 26,
     "metadata": {},
     "output_type": "execute_result"
    }
   ],
   "source": [
    "df['embedding']"
   ]
  },
  {
   "cell_type": "markdown",
   "id": "fff16ee7-8b64-4dab-8dc0-86b6f338a8f2",
   "metadata": {},
   "source": [
    "**Train test split**"
   ]
  },
  {
   "cell_type": "code",
   "execution_count": 27,
   "id": "bf501335-81f3-4f7b-a046-f85698b3edb2",
   "metadata": {},
   "outputs": [],
   "source": [
    "from sklearn.model_selection import train_test_split\n",
    "\n",
    "X_train, X_test, y_train, y_test = train_test_split(np.stack(df['embedding'].values), df['label'], train_size= 0.8, stratify= df['label'])"
   ]
  },
  {
   "cell_type": "markdown",
   "id": "fc36c4af-b607-4391-ab0c-7e875673bc57",
   "metadata": {},
   "source": [
    "# 2. Le XGBOOST CLASSIFIER"
   ]
  },
  {
   "cell_type": "markdown",
   "id": "f26c7056-3d89-451b-b3f5-13ada84d95c1",
   "metadata": {},
   "source": [
    "XGBoost (Extreme Gradient Boosting) est un algorithme de machine learning basé sur le boosting, qui combine plusieurs arbres de décision pour améliorer les performances. Il utilise la méthode de gradient boosting, où chaque arbre construit successivement améliore les erreurs des arbres précédents. XGBoost est particulièrement efficace pour les problèmes de régression et de classification, offrant des vitesses d'entraînement rapides, une régularisation pour éviter le sur-apprentissage, et des performances exceptionnelles, surtout avec des données structurées."
   ]
  },
  {
   "cell_type": "markdown",
   "id": "851145a1-86cf-49e0-9611-05b0daad68d7",
   "metadata": {},
   "source": [
    "**Entrainement**"
   ]
  },
  {
   "cell_type": "code",
   "execution_count": 28,
   "id": "e6cc1e9b-b8de-48af-8514-69b080c66d9b",
   "metadata": {},
   "outputs": [
    {
     "data": {
      "text/html": [
       "<style>#sk-container-id-1 {\n",
       "  /* Definition of color scheme common for light and dark mode */\n",
       "  --sklearn-color-text: black;\n",
       "  --sklearn-color-line: gray;\n",
       "  /* Definition of color scheme for unfitted estimators */\n",
       "  --sklearn-color-unfitted-level-0: #fff5e6;\n",
       "  --sklearn-color-unfitted-level-1: #f6e4d2;\n",
       "  --sklearn-color-unfitted-level-2: #ffe0b3;\n",
       "  --sklearn-color-unfitted-level-3: chocolate;\n",
       "  /* Definition of color scheme for fitted estimators */\n",
       "  --sklearn-color-fitted-level-0: #f0f8ff;\n",
       "  --sklearn-color-fitted-level-1: #d4ebff;\n",
       "  --sklearn-color-fitted-level-2: #b3dbfd;\n",
       "  --sklearn-color-fitted-level-3: cornflowerblue;\n",
       "\n",
       "  /* Specific color for light theme */\n",
       "  --sklearn-color-text-on-default-background: var(--sg-text-color, var(--theme-code-foreground, var(--jp-content-font-color1, black)));\n",
       "  --sklearn-color-background: var(--sg-background-color, var(--theme-background, var(--jp-layout-color0, white)));\n",
       "  --sklearn-color-border-box: var(--sg-text-color, var(--theme-code-foreground, var(--jp-content-font-color1, black)));\n",
       "  --sklearn-color-icon: #696969;\n",
       "\n",
       "  @media (prefers-color-scheme: dark) {\n",
       "    /* Redefinition of color scheme for dark theme */\n",
       "    --sklearn-color-text-on-default-background: var(--sg-text-color, var(--theme-code-foreground, var(--jp-content-font-color1, white)));\n",
       "    --sklearn-color-background: var(--sg-background-color, var(--theme-background, var(--jp-layout-color0, #111)));\n",
       "    --sklearn-color-border-box: var(--sg-text-color, var(--theme-code-foreground, var(--jp-content-font-color1, white)));\n",
       "    --sklearn-color-icon: #878787;\n",
       "  }\n",
       "}\n",
       "\n",
       "#sk-container-id-1 {\n",
       "  color: var(--sklearn-color-text);\n",
       "}\n",
       "\n",
       "#sk-container-id-1 pre {\n",
       "  padding: 0;\n",
       "}\n",
       "\n",
       "#sk-container-id-1 input.sk-hidden--visually {\n",
       "  border: 0;\n",
       "  clip: rect(1px 1px 1px 1px);\n",
       "  clip: rect(1px, 1px, 1px, 1px);\n",
       "  height: 1px;\n",
       "  margin: -1px;\n",
       "  overflow: hidden;\n",
       "  padding: 0;\n",
       "  position: absolute;\n",
       "  width: 1px;\n",
       "}\n",
       "\n",
       "#sk-container-id-1 div.sk-dashed-wrapped {\n",
       "  border: 1px dashed var(--sklearn-color-line);\n",
       "  margin: 0 0.4em 0.5em 0.4em;\n",
       "  box-sizing: border-box;\n",
       "  padding-bottom: 0.4em;\n",
       "  background-color: var(--sklearn-color-background);\n",
       "}\n",
       "\n",
       "#sk-container-id-1 div.sk-container {\n",
       "  /* jupyter's `normalize.less` sets `[hidden] { display: none; }`\n",
       "     but bootstrap.min.css set `[hidden] { display: none !important; }`\n",
       "     so we also need the `!important` here to be able to override the\n",
       "     default hidden behavior on the sphinx rendered scikit-learn.org.\n",
       "     See: https://github.com/scikit-learn/scikit-learn/issues/21755 */\n",
       "  display: inline-block !important;\n",
       "  position: relative;\n",
       "}\n",
       "\n",
       "#sk-container-id-1 div.sk-text-repr-fallback {\n",
       "  display: none;\n",
       "}\n",
       "\n",
       "div.sk-parallel-item,\n",
       "div.sk-serial,\n",
       "div.sk-item {\n",
       "  /* draw centered vertical line to link estimators */\n",
       "  background-image: linear-gradient(var(--sklearn-color-text-on-default-background), var(--sklearn-color-text-on-default-background));\n",
       "  background-size: 2px 100%;\n",
       "  background-repeat: no-repeat;\n",
       "  background-position: center center;\n",
       "}\n",
       "\n",
       "/* Parallel-specific style estimator block */\n",
       "\n",
       "#sk-container-id-1 div.sk-parallel-item::after {\n",
       "  content: \"\";\n",
       "  width: 100%;\n",
       "  border-bottom: 2px solid var(--sklearn-color-text-on-default-background);\n",
       "  flex-grow: 1;\n",
       "}\n",
       "\n",
       "#sk-container-id-1 div.sk-parallel {\n",
       "  display: flex;\n",
       "  align-items: stretch;\n",
       "  justify-content: center;\n",
       "  background-color: var(--sklearn-color-background);\n",
       "  position: relative;\n",
       "}\n",
       "\n",
       "#sk-container-id-1 div.sk-parallel-item {\n",
       "  display: flex;\n",
       "  flex-direction: column;\n",
       "}\n",
       "\n",
       "#sk-container-id-1 div.sk-parallel-item:first-child::after {\n",
       "  align-self: flex-end;\n",
       "  width: 50%;\n",
       "}\n",
       "\n",
       "#sk-container-id-1 div.sk-parallel-item:last-child::after {\n",
       "  align-self: flex-start;\n",
       "  width: 50%;\n",
       "}\n",
       "\n",
       "#sk-container-id-1 div.sk-parallel-item:only-child::after {\n",
       "  width: 0;\n",
       "}\n",
       "\n",
       "/* Serial-specific style estimator block */\n",
       "\n",
       "#sk-container-id-1 div.sk-serial {\n",
       "  display: flex;\n",
       "  flex-direction: column;\n",
       "  align-items: center;\n",
       "  background-color: var(--sklearn-color-background);\n",
       "  padding-right: 1em;\n",
       "  padding-left: 1em;\n",
       "}\n",
       "\n",
       "\n",
       "/* Toggleable style: style used for estimator/Pipeline/ColumnTransformer box that is\n",
       "clickable and can be expanded/collapsed.\n",
       "- Pipeline and ColumnTransformer use this feature and define the default style\n",
       "- Estimators will overwrite some part of the style using the `sk-estimator` class\n",
       "*/\n",
       "\n",
       "/* Pipeline and ColumnTransformer style (default) */\n",
       "\n",
       "#sk-container-id-1 div.sk-toggleable {\n",
       "  /* Default theme specific background. It is overwritten whether we have a\n",
       "  specific estimator or a Pipeline/ColumnTransformer */\n",
       "  background-color: var(--sklearn-color-background);\n",
       "}\n",
       "\n",
       "/* Toggleable label */\n",
       "#sk-container-id-1 label.sk-toggleable__label {\n",
       "  cursor: pointer;\n",
       "  display: block;\n",
       "  width: 100%;\n",
       "  margin-bottom: 0;\n",
       "  padding: 0.5em;\n",
       "  box-sizing: border-box;\n",
       "  text-align: center;\n",
       "}\n",
       "\n",
       "#sk-container-id-1 label.sk-toggleable__label-arrow:before {\n",
       "  /* Arrow on the left of the label */\n",
       "  content: \"▸\";\n",
       "  float: left;\n",
       "  margin-right: 0.25em;\n",
       "  color: var(--sklearn-color-icon);\n",
       "}\n",
       "\n",
       "#sk-container-id-1 label.sk-toggleable__label-arrow:hover:before {\n",
       "  color: var(--sklearn-color-text);\n",
       "}\n",
       "\n",
       "/* Toggleable content - dropdown */\n",
       "\n",
       "#sk-container-id-1 div.sk-toggleable__content {\n",
       "  max-height: 0;\n",
       "  max-width: 0;\n",
       "  overflow: hidden;\n",
       "  text-align: left;\n",
       "  /* unfitted */\n",
       "  background-color: var(--sklearn-color-unfitted-level-0);\n",
       "}\n",
       "\n",
       "#sk-container-id-1 div.sk-toggleable__content.fitted {\n",
       "  /* fitted */\n",
       "  background-color: var(--sklearn-color-fitted-level-0);\n",
       "}\n",
       "\n",
       "#sk-container-id-1 div.sk-toggleable__content pre {\n",
       "  margin: 0.2em;\n",
       "  border-radius: 0.25em;\n",
       "  color: var(--sklearn-color-text);\n",
       "  /* unfitted */\n",
       "  background-color: var(--sklearn-color-unfitted-level-0);\n",
       "}\n",
       "\n",
       "#sk-container-id-1 div.sk-toggleable__content.fitted pre {\n",
       "  /* unfitted */\n",
       "  background-color: var(--sklearn-color-fitted-level-0);\n",
       "}\n",
       "\n",
       "#sk-container-id-1 input.sk-toggleable__control:checked~div.sk-toggleable__content {\n",
       "  /* Expand drop-down */\n",
       "  max-height: 200px;\n",
       "  max-width: 100%;\n",
       "  overflow: auto;\n",
       "}\n",
       "\n",
       "#sk-container-id-1 input.sk-toggleable__control:checked~label.sk-toggleable__label-arrow:before {\n",
       "  content: \"▾\";\n",
       "}\n",
       "\n",
       "/* Pipeline/ColumnTransformer-specific style */\n",
       "\n",
       "#sk-container-id-1 div.sk-label input.sk-toggleable__control:checked~label.sk-toggleable__label {\n",
       "  color: var(--sklearn-color-text);\n",
       "  background-color: var(--sklearn-color-unfitted-level-2);\n",
       "}\n",
       "\n",
       "#sk-container-id-1 div.sk-label.fitted input.sk-toggleable__control:checked~label.sk-toggleable__label {\n",
       "  background-color: var(--sklearn-color-fitted-level-2);\n",
       "}\n",
       "\n",
       "/* Estimator-specific style */\n",
       "\n",
       "/* Colorize estimator box */\n",
       "#sk-container-id-1 div.sk-estimator input.sk-toggleable__control:checked~label.sk-toggleable__label {\n",
       "  /* unfitted */\n",
       "  background-color: var(--sklearn-color-unfitted-level-2);\n",
       "}\n",
       "\n",
       "#sk-container-id-1 div.sk-estimator.fitted input.sk-toggleable__control:checked~label.sk-toggleable__label {\n",
       "  /* fitted */\n",
       "  background-color: var(--sklearn-color-fitted-level-2);\n",
       "}\n",
       "\n",
       "#sk-container-id-1 div.sk-label label.sk-toggleable__label,\n",
       "#sk-container-id-1 div.sk-label label {\n",
       "  /* The background is the default theme color */\n",
       "  color: var(--sklearn-color-text-on-default-background);\n",
       "}\n",
       "\n",
       "/* On hover, darken the color of the background */\n",
       "#sk-container-id-1 div.sk-label:hover label.sk-toggleable__label {\n",
       "  color: var(--sklearn-color-text);\n",
       "  background-color: var(--sklearn-color-unfitted-level-2);\n",
       "}\n",
       "\n",
       "/* Label box, darken color on hover, fitted */\n",
       "#sk-container-id-1 div.sk-label.fitted:hover label.sk-toggleable__label.fitted {\n",
       "  color: var(--sklearn-color-text);\n",
       "  background-color: var(--sklearn-color-fitted-level-2);\n",
       "}\n",
       "\n",
       "/* Estimator label */\n",
       "\n",
       "#sk-container-id-1 div.sk-label label {\n",
       "  font-family: monospace;\n",
       "  font-weight: bold;\n",
       "  display: inline-block;\n",
       "  line-height: 1.2em;\n",
       "}\n",
       "\n",
       "#sk-container-id-1 div.sk-label-container {\n",
       "  text-align: center;\n",
       "}\n",
       "\n",
       "/* Estimator-specific */\n",
       "#sk-container-id-1 div.sk-estimator {\n",
       "  font-family: monospace;\n",
       "  border: 1px dotted var(--sklearn-color-border-box);\n",
       "  border-radius: 0.25em;\n",
       "  box-sizing: border-box;\n",
       "  margin-bottom: 0.5em;\n",
       "  /* unfitted */\n",
       "  background-color: var(--sklearn-color-unfitted-level-0);\n",
       "}\n",
       "\n",
       "#sk-container-id-1 div.sk-estimator.fitted {\n",
       "  /* fitted */\n",
       "  background-color: var(--sklearn-color-fitted-level-0);\n",
       "}\n",
       "\n",
       "/* on hover */\n",
       "#sk-container-id-1 div.sk-estimator:hover {\n",
       "  /* unfitted */\n",
       "  background-color: var(--sklearn-color-unfitted-level-2);\n",
       "}\n",
       "\n",
       "#sk-container-id-1 div.sk-estimator.fitted:hover {\n",
       "  /* fitted */\n",
       "  background-color: var(--sklearn-color-fitted-level-2);\n",
       "}\n",
       "\n",
       "/* Specification for estimator info (e.g. \"i\" and \"?\") */\n",
       "\n",
       "/* Common style for \"i\" and \"?\" */\n",
       "\n",
       ".sk-estimator-doc-link,\n",
       "a:link.sk-estimator-doc-link,\n",
       "a:visited.sk-estimator-doc-link {\n",
       "  float: right;\n",
       "  font-size: smaller;\n",
       "  line-height: 1em;\n",
       "  font-family: monospace;\n",
       "  background-color: var(--sklearn-color-background);\n",
       "  border-radius: 1em;\n",
       "  height: 1em;\n",
       "  width: 1em;\n",
       "  text-decoration: none !important;\n",
       "  margin-left: 1ex;\n",
       "  /* unfitted */\n",
       "  border: var(--sklearn-color-unfitted-level-1) 1pt solid;\n",
       "  color: var(--sklearn-color-unfitted-level-1);\n",
       "}\n",
       "\n",
       ".sk-estimator-doc-link.fitted,\n",
       "a:link.sk-estimator-doc-link.fitted,\n",
       "a:visited.sk-estimator-doc-link.fitted {\n",
       "  /* fitted */\n",
       "  border: var(--sklearn-color-fitted-level-1) 1pt solid;\n",
       "  color: var(--sklearn-color-fitted-level-1);\n",
       "}\n",
       "\n",
       "/* On hover */\n",
       "div.sk-estimator:hover .sk-estimator-doc-link:hover,\n",
       ".sk-estimator-doc-link:hover,\n",
       "div.sk-label-container:hover .sk-estimator-doc-link:hover,\n",
       ".sk-estimator-doc-link:hover {\n",
       "  /* unfitted */\n",
       "  background-color: var(--sklearn-color-unfitted-level-3);\n",
       "  color: var(--sklearn-color-background);\n",
       "  text-decoration: none;\n",
       "}\n",
       "\n",
       "div.sk-estimator.fitted:hover .sk-estimator-doc-link.fitted:hover,\n",
       ".sk-estimator-doc-link.fitted:hover,\n",
       "div.sk-label-container:hover .sk-estimator-doc-link.fitted:hover,\n",
       ".sk-estimator-doc-link.fitted:hover {\n",
       "  /* fitted */\n",
       "  background-color: var(--sklearn-color-fitted-level-3);\n",
       "  color: var(--sklearn-color-background);\n",
       "  text-decoration: none;\n",
       "}\n",
       "\n",
       "/* Span, style for the box shown on hovering the info icon */\n",
       ".sk-estimator-doc-link span {\n",
       "  display: none;\n",
       "  z-index: 9999;\n",
       "  position: relative;\n",
       "  font-weight: normal;\n",
       "  right: .2ex;\n",
       "  padding: .5ex;\n",
       "  margin: .5ex;\n",
       "  width: min-content;\n",
       "  min-width: 20ex;\n",
       "  max-width: 50ex;\n",
       "  color: var(--sklearn-color-text);\n",
       "  box-shadow: 2pt 2pt 4pt #999;\n",
       "  /* unfitted */\n",
       "  background: var(--sklearn-color-unfitted-level-0);\n",
       "  border: .5pt solid var(--sklearn-color-unfitted-level-3);\n",
       "}\n",
       "\n",
       ".sk-estimator-doc-link.fitted span {\n",
       "  /* fitted */\n",
       "  background: var(--sklearn-color-fitted-level-0);\n",
       "  border: var(--sklearn-color-fitted-level-3);\n",
       "}\n",
       "\n",
       ".sk-estimator-doc-link:hover span {\n",
       "  display: block;\n",
       "}\n",
       "\n",
       "/* \"?\"-specific style due to the `<a>` HTML tag */\n",
       "\n",
       "#sk-container-id-1 a.estimator_doc_link {\n",
       "  float: right;\n",
       "  font-size: 1rem;\n",
       "  line-height: 1em;\n",
       "  font-family: monospace;\n",
       "  background-color: var(--sklearn-color-background);\n",
       "  border-radius: 1rem;\n",
       "  height: 1rem;\n",
       "  width: 1rem;\n",
       "  text-decoration: none;\n",
       "  /* unfitted */\n",
       "  color: var(--sklearn-color-unfitted-level-1);\n",
       "  border: var(--sklearn-color-unfitted-level-1) 1pt solid;\n",
       "}\n",
       "\n",
       "#sk-container-id-1 a.estimator_doc_link.fitted {\n",
       "  /* fitted */\n",
       "  border: var(--sklearn-color-fitted-level-1) 1pt solid;\n",
       "  color: var(--sklearn-color-fitted-level-1);\n",
       "}\n",
       "\n",
       "/* On hover */\n",
       "#sk-container-id-1 a.estimator_doc_link:hover {\n",
       "  /* unfitted */\n",
       "  background-color: var(--sklearn-color-unfitted-level-3);\n",
       "  color: var(--sklearn-color-background);\n",
       "  text-decoration: none;\n",
       "}\n",
       "\n",
       "#sk-container-id-1 a.estimator_doc_link.fitted:hover {\n",
       "  /* fitted */\n",
       "  background-color: var(--sklearn-color-fitted-level-3);\n",
       "}\n",
       "</style><div id=\"sk-container-id-1\" class=\"sk-top-container\"><div class=\"sk-text-repr-fallback\"><pre>XGBClassifier(base_score=None, booster=None, callbacks=None,\n",
       "              colsample_bylevel=None, colsample_bynode=None,\n",
       "              colsample_bytree=None, device=None, early_stopping_rounds=None,\n",
       "              enable_categorical=False, eval_metric=None, feature_types=None,\n",
       "              gamma=None, grow_policy=None, importance_type=None,\n",
       "              interaction_constraints=None, learning_rate=0.1, max_bin=None,\n",
       "              max_cat_threshold=None, max_cat_to_onehot=None,\n",
       "              max_delta_step=None, max_depth=12, max_leaves=None,\n",
       "              min_child_weight=3, missing=nan, monotone_constraints=None,\n",
       "              multi_strategy=None, n_estimators=200, n_jobs=None,\n",
       "              num_parallel_tree=None, objective=&#x27;multi:softprob&#x27;, ...)</pre><b>In a Jupyter environment, please rerun this cell to show the HTML representation or trust the notebook. <br />On GitHub, the HTML representation is unable to render, please try loading this page with nbviewer.org.</b></div><div class=\"sk-container\" hidden><div class=\"sk-item\"><div class=\"sk-estimator fitted sk-toggleable\"><input class=\"sk-toggleable__control sk-hidden--visually\" id=\"sk-estimator-id-1\" type=\"checkbox\" checked><label for=\"sk-estimator-id-1\" class=\"sk-toggleable__label fitted sk-toggleable__label-arrow fitted\">&nbsp;XGBClassifier<span class=\"sk-estimator-doc-link fitted\">i<span>Fitted</span></span></label><div class=\"sk-toggleable__content fitted\"><pre>XGBClassifier(base_score=None, booster=None, callbacks=None,\n",
       "              colsample_bylevel=None, colsample_bynode=None,\n",
       "              colsample_bytree=None, device=None, early_stopping_rounds=None,\n",
       "              enable_categorical=False, eval_metric=None, feature_types=None,\n",
       "              gamma=None, grow_policy=None, importance_type=None,\n",
       "              interaction_constraints=None, learning_rate=0.1, max_bin=None,\n",
       "              max_cat_threshold=None, max_cat_to_onehot=None,\n",
       "              max_delta_step=None, max_depth=12, max_leaves=None,\n",
       "              min_child_weight=3, missing=nan, monotone_constraints=None,\n",
       "              multi_strategy=None, n_estimators=200, n_jobs=None,\n",
       "              num_parallel_tree=None, objective=&#x27;multi:softprob&#x27;, ...)</pre></div> </div></div></div></div>"
      ],
      "text/plain": [
       "XGBClassifier(base_score=None, booster=None, callbacks=None,\n",
       "              colsample_bylevel=None, colsample_bynode=None,\n",
       "              colsample_bytree=None, device=None, early_stopping_rounds=None,\n",
       "              enable_categorical=False, eval_metric=None, feature_types=None,\n",
       "              gamma=None, grow_policy=None, importance_type=None,\n",
       "              interaction_constraints=None, learning_rate=0.1, max_bin=None,\n",
       "              max_cat_threshold=None, max_cat_to_onehot=None,\n",
       "              max_delta_step=None, max_depth=12, max_leaves=None,\n",
       "              min_child_weight=3, missing=nan, monotone_constraints=None,\n",
       "              multi_strategy=None, n_estimators=200, n_jobs=None,\n",
       "              num_parallel_tree=None, objective='multi:softprob', ...)"
      ]
     },
     "execution_count": 28,
     "metadata": {},
     "output_type": "execute_result"
    }
   ],
   "source": [
    "from xgboost import XGBClassifier\n",
    "\n",
    "model = XGBClassifier(n_estimators = 200, learning_rate = 0.1, max_depth = 12, min_child_weight= 3)\n",
    "model.fit(X_train, y_train)"
   ]
  },
  {
   "cell_type": "code",
   "execution_count": 29,
   "id": "029fb091-def9-424c-9265-2235199a5e73",
   "metadata": {},
   "outputs": [
    {
     "name": "stdout",
     "output_type": "stream",
     "text": [
      "Le score sur le train est: 0.9984335226160173\n"
     ]
    }
   ],
   "source": [
    "print(\"Le score sur le train est:\", str(model.score(X_train, y_train)))"
   ]
  },
  {
   "cell_type": "code",
   "execution_count": 30,
   "id": "3cf2d8d3-028e-4d47-ae33-5a8b28a96864",
   "metadata": {},
   "outputs": [
    {
     "data": {
      "text/plain": [
       "0.8873115331897395"
      ]
     },
     "execution_count": 30,
     "metadata": {},
     "output_type": "execute_result"
    }
   ],
   "source": [
    "model.score(X_test, y_test)"
   ]
  },
  {
   "cell_type": "markdown",
   "id": "0b9062ef-9390-43a7-b747-7254ea94d323",
   "metadata": {},
   "source": [
    "**Evaluation**"
   ]
  },
  {
   "cell_type": "code",
   "execution_count": 31,
   "id": "8f24d3b2-4aab-451d-bbaa-38794e9e53fa",
   "metadata": {},
   "outputs": [],
   "source": [
    "from sklearn.metrics import classification_report, confusion_matrix, ConfusionMatrixDisplay\n",
    "import matplotlib.pyplot as plt"
   ]
  },
  {
   "cell_type": "code",
   "execution_count": 32,
   "id": "37290ed7-f01d-4cb4-8450-e8b5f599f86e",
   "metadata": {},
   "outputs": [],
   "source": [
    "y_pred = model.predict(X_test)"
   ]
  },
  {
   "cell_type": "code",
   "execution_count": 33,
   "id": "16ead1d7-6906-4f4a-a421-970c957336ac",
   "metadata": {},
   "outputs": [
    {
     "name": "stdout",
     "output_type": "stream",
     "text": [
      "              precision    recall  f1-score   support\n",
      "\n",
      "           0       0.81      0.24      0.37       659\n",
      "           1       0.87      0.89      0.88      3451\n",
      "           2       0.90      0.96      0.93      6104\n",
      "\n",
      "    accuracy                           0.89     10214\n",
      "   macro avg       0.86      0.70      0.73     10214\n",
      "weighted avg       0.88      0.89      0.87     10214\n",
      "\n"
     ]
    }
   ],
   "source": [
    "print(classification_report(y_test, y_pred))"
   ]
  },
  {
   "cell_type": "code",
   "execution_count": 34,
   "id": "5b9617b7-f98e-4db1-930c-4dc58d43cdc0",
   "metadata": {},
   "outputs": [],
   "source": [
    "cm = confusion_matrix(y_test, y_pred)"
   ]
  },
  {
   "cell_type": "code",
   "execution_count": 35,
   "id": "64f88d6a-d8f6-402f-8b3f-081984ff48f2",
   "metadata": {},
   "outputs": [
    {
     "data": {
      "text/plain": [
       "<sklearn.metrics._plot.confusion_matrix.ConfusionMatrixDisplay at 0x7f73ac5d0410>"
      ]
     },
     "execution_count": 35,
     "metadata": {},
     "output_type": "execute_result"
    },
    {
     "data": {
      "image/png": "[encoded data removed]",
      "text/plain": [
       "<Figure size 640x480 with 2 Axes>"
      ]
     },
     "metadata": {},
     "output_type": "display_data"
    }
   ],
   "source": [
    "cm_disp = ConfusionMatrixDisplay(confusion_matrix= cm, display_labels= ['hateful','offensive','neither'])\n",
    "cm_disp.plot()"
   ]
  },
  {
   "cell_type": "markdown",
   "id": "1d70cfde",
   "metadata": {},
   "source": [
    "**ANALYSE DES PERFORMANCES**"
   ]
  },
  {
   "cell_type": "markdown",
   "id": "f69f7a5b",
   "metadata": {},
   "source": [
    "**On constate que le modèle peine à avoir de bonnes prédictions sur les tweets catégorisés comme \"haineux\" étant donné le faible nombre d'exemples.**\n",
    "\n",
    "- Analyse du score de precision : \n",
    "Lorsque le modèle prédit l'une de ces trois classes: on obtient globalement de bonnes prédictions; On peut etre certain qu'à 81% le modèle est correct lorsqu'il catégorise un tweet comme haineux, 87% de précision pour les tweets offensants et 90% de précision pour les autres.\n",
    "\n",
    "- Analyse du recall:\n",
    "Le recall est globalement élevé sauf pour la classe 0; Si un tweet est haineux, alors le modèle a 24% de chances d'etre considéré comme telle par le modèle. \n",
    "Ce qui est très peu et cela est du au faible nombre d'exemple de tweet haineux dans le modèle.\n",
    "\n",
    "**La weighted average accuracy(0.87) montre que le modèle prédit globalement bien.**\n",
    "\n",
    "\n"
   ]
  }
 ],
 "metadata": {
  "kernelspec": {
   "display_name": "base",
   "language": "python",
   "name": "python3"
  },
  "language_info": {
   "codemirror_mode": {
    "name": "ipython",
    "version": 3
   },
   "file_extension": ".py",
   "mimetype": "text/x-python",
   "name": "python",
   "nbconvert_exporter": "python",
   "pygments_lexer": "ipython3",
   "version": "3.12.7"
  }
 },
 "nbformat": 4,
 "nbformat_minor": 5
}
